{
 "cells": [
  {
   "cell_type": "raw",
   "metadata": {
    "vscode": {
     "languageId": "raw"
    }
   },
   "source": [
    "---\n",
    "title: \"Exercise: String Operations\"\n",
    "format:\n",
    "  html:\n",
    "    code-fold: false\n",
    "    code-overflow: wrap\n",
    "jupyter: python3\n",
    "---"
   ]
  },
  {
   "cell_type": "markdown",
   "metadata": {
    "vscode": {
     "languageId": "raw"
    }
   },
   "source": [
    "## Exercise 1: Convert to Uppercase\n",
    "\n",
    "**Task:** Change a given string to uppercase.\n",
    "\n",
    "**Instructions:**\n",
    "\n",
    "- Define a variable called `text` and assign it a string value (e.g., \"natural language processing\").\n",
    "- Use the `.upper()` method to convert the string to uppercase.\n",
    "- Print the result.\n"
   ]
  },
  {
   "cell_type": "markdown",
   "metadata": {
    "vscode": {
     "languageId": "raw"
    }
   },
   "source": [
    "<details>\n",
    "<summary>Show solution</summary>"
   ]
  },
  {
   "cell_type": "code",
   "execution_count": 3,
   "metadata": {},
   "outputs": [
    {
     "name": "stdout",
     "output_type": "stream",
     "text": [
      "NATURAL LANGUAGE PROCESSING\n"
     ]
    }
   ],
   "source": [
    "text = \"natural language processing\"\n",
    "\n",
    "# Convert the string to uppercase\n",
    "uppercase_text = text.upper()\n",
    "\n",
    "# Print the result\n",
    "print(uppercase_text)  # Output: NATURAL LANGUAGE PROCESSING"
   ]
  },
  {
   "cell_type": "markdown",
   "metadata": {
    "vscode": {
     "languageId": "raw"
    }
   },
   "source": [
    "</details>"
   ]
  },
  {
   "cell_type": "markdown",
   "metadata": {},
   "source": [
    "## Exercise 2: Count Vowels\n",
    "\n",
    "**Task:** Count the number of vowels in a given string.\n",
    "\n",
    "**Instructions:**\n",
    "\n",
    "- Define a variable called `sentence` and assign it a string value (e.g., \"I love Python programming\").\n",
    "- Create a variable called `vowel_count` to keep track of the number of vowels in the sentence.\n",
    "- Loop through each character in the sentence and check if it is a vowel (a, e, i, o, u).\n",
    "- Print the total number of vowels."
   ]
  },
  {
   "cell_type": "markdown",
   "metadata": {},
   "source": [
    "<details>\n",
    "<summary>Show solution</summary>"
   ]
  },
  {
   "cell_type": "code",
   "execution_count": 4,
   "metadata": {},
   "outputs": [
    {
     "name": "stdout",
     "output_type": "stream",
     "text": [
      "Number of vowels: 7\n"
     ]
    }
   ],
   "source": [
    "sentence = \"I love Python programming\"\n",
    "\n",
    "# Initialize the vowel count\n",
    "vowel_count = 0\n",
    "\n",
    "# Define the set of vowels\n",
    "vowels = \"aeiouAEIOU\"\n",
    "\n",
    "# Loop through each character in the sentence\n",
    "for char in sentence:\n",
    "    if char in vowels:\n",
    "        vowel_count += 1\n",
    "\n",
    "# Print the total number of vowels\n",
    "print(\"Number of vowels:\", vowel_count)  # Output: Number of vowels: 8"
   ]
  },
  {
   "cell_type": "markdown",
   "metadata": {},
   "source": [
    "</details>"
   ]
  },
  {
   "cell_type": "markdown",
   "metadata": {},
   "source": [
    "## Exercise 3: Replace a Word\n",
    "\n",
    "**Task:** Replace a word in a string with another word.\n",
    "\n",
    "**Instructions:**\n",
    "\n",
    "- Define a variable called `text` and assign it a string value (e.g., \"NLP is fun\").\n",
    "- Use the `.replace()` method to change the word \"fun\" to \"awesome\".\n",
    "- Print the modified string."
   ]
  },
  {
   "cell_type": "markdown",
   "metadata": {},
   "source": [
    "<details>\n",
    "<summary>Show solution</summary>"
   ]
  },
  {
   "cell_type": "code",
   "execution_count": 5,
   "metadata": {},
   "outputs": [
    {
     "name": "stdout",
     "output_type": "stream",
     "text": [
      "NLP is awesome\n"
     ]
    }
   ],
   "source": [
    "text = \"NLP is fun\"\n",
    "\n",
    "# Replace the word \"fun\" with \"awesome\"\n",
    "modified_text = text.replace(\"fun\", \"awesome\")\n",
    "\n",
    "# Print the modified string\n",
    "print(modified_text)  # Output: NLP is awesome"
   ]
  },
  {
   "cell_type": "markdown",
   "metadata": {},
   "source": [
    "## Exercise 4: Extract Substring\n",
    "\n",
    "**Task:** Extract a substring from a given string.\n",
    "\n",
    "**Instructions:**\n",
    "\n",
    "- Define a variable called `text` and assign it a string value (e.g., \"Natural Language Processing\").\n",
    "- Use slicing to extract the word \"Language\" from the string.\n",
    "- Print the extracted substring."
   ]
  },
  {
   "cell_type": "markdown",
   "metadata": {},
   "source": [
    "<details>\n",
    "<summary>Show solution</summary>"
   ]
  },
  {
   "cell_type": "code",
   "execution_count": 6,
   "metadata": {},
   "outputs": [
    {
     "name": "stdout",
     "output_type": "stream",
     "text": [
      "Language\n"
     ]
    }
   ],
   "source": [
    "text = \"Natural Language Processing\"\n",
    "\n",
    "# Extract the substring \"Language\" using slicing\n",
    "substring = text[8:16]  # The indices may vary based on the string\n",
    "\n",
    "# Print the extracted substring\n",
    "print(substring)  # Output: Language"
   ]
  },
  {
   "cell_type": "markdown",
   "metadata": {},
   "source": [
    "</details>"
   ]
  },
  {
   "cell_type": "markdown",
   "metadata": {},
   "source": [
    "</details>"
   ]
  }
 ],
 "metadata": {
  "kernelspec": {
   "display_name": ".script_venv",
   "language": "python",
   "name": "python3"
  },
  "language_info": {
   "codemirror_mode": {
    "name": "ipython",
    "version": 3
   },
   "file_extension": ".py",
   "mimetype": "text/x-python",
   "name": "python",
   "nbconvert_exporter": "python",
   "pygments_lexer": "ipython3",
   "version": "3.12.3"
  }
 },
 "nbformat": 4,
 "nbformat_minor": 2
}
