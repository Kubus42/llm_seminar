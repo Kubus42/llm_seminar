{
 "cells": [
  {
   "cell_type": "raw",
   "metadata": {
    "vscode": {
     "languageId": "raw"
    }
   },
   "source": [
    "---\n",
    "title: \"Exercise: Functions\"\n",
    "format:\n",
    "  html:\n",
    "    code-fold: false\n",
    "    code-overflow: wrap\n",
    "jupyter: python3\n",
    "---"
   ]
  },
  {
   "cell_type": "markdown",
   "metadata": {
    "vscode": {
     "languageId": "raw"
    }
   },
   "source": [
    "## Exercise 1: Word Frequency Counter\n",
    "\n",
    "**Task:** Create a function to count the frequency of a specific word in a given sentence.\n",
    "\n",
    "**Instructions:**\n",
    "\n",
    "- Define a function called `word_frequency(sentence, word)` that takes a string parameter `sentence` and a string parameter `word`.\n",
    "- Inside the function, use the `split()` method to break the sentence into words, then count how many times `word` appears in the list. Hint: Use the list method `.count()`.\n",
    "- Return the count.\n",
    "- Call the function with a sample sentence and word, then print the result."
   ]
  },
  {
   "cell_type": "markdown",
   "metadata": {
    "vscode": {
     "languageId": "raw"
    }
   },
   "source": [
    "<details>\n",
    "<summary>Show solution</summary>"
   ]
  },
  {
   "cell_type": "code",
   "execution_count": 17,
   "metadata": {},
   "outputs": [
    {
     "name": "stdout",
     "output_type": "stream",
     "text": [
      "The word 'NLP' appears 2 times.\n"
     ]
    }
   ],
   "source": [
    "def word_frequency(sentence, word):\n",
    "    words = sentence.split()\n",
    "    return words.count(word)\n",
    "\n",
    "# Sample usage\n",
    "sentence = \"NLP is great and NLP is fun\"\n",
    "word = \"NLP\"\n",
    "result = word_frequency(sentence, word)\n",
    "print(f\"The word '{word}' appears {result} times.\")  # Output: The word 'NLP' appears 2 times."
   ]
  },
  {
   "cell_type": "markdown",
   "metadata": {},
   "source": [
    "</details>"
   ]
  },
  {
   "cell_type": "markdown",
   "metadata": {},
   "source": [
    "## Exercise 2: Sentence Reversal\n",
    "\n",
    "**Task:** Write a function that reverses the words in a sentence.\n",
    "\n",
    "**Instructions:**\n",
    "\n",
    "- Define a function called `reverse_sentence(sentence)` that takes a string parameter `sentence`.\n",
    "- Inside the function, split the sentence into words, reverse the order of the words, and then join them back into a single string.\n",
    "- Return the reversed sentence.\n",
    "- Call the function with a sample sentence and print the result."
   ]
  },
  {
   "cell_type": "markdown",
   "metadata": {},
   "source": [
    "<details>\n",
    "<summary>Show solution</summary>"
   ]
  },
  {
   "cell_type": "code",
   "execution_count": 18,
   "metadata": {},
   "outputs": [
    {
     "name": "stdout",
     "output_type": "stream",
     "text": [
      "Reversed sentence: fun is Processing Language Natural\n"
     ]
    }
   ],
   "source": [
    "def reverse_sentence(sentence):\n",
    "    words = sentence.split()\n",
    "    reversed_words = words[::-1]\n",
    "    return ' '.join(reversed_words)\n",
    "\n",
    "# Sample usage\n",
    "sentence = \"Natural Language Processing is fun\"\n",
    "result = reverse_sentence(sentence)\n",
    "print(\"Reversed sentence:\", result)  # Output: Reversed sentence: fun is Processing Language Natural"
   ]
  },
  {
   "cell_type": "markdown",
   "metadata": {},
   "source": [
    "## Exercise 3: Remove Punctuation\n",
    "\n",
    "**Task:** Create a function to remove punctuation from a given string.\n",
    "\n",
    "**Instructions:**\n",
    "\n",
    "- Define a function called `remove_punctuation(text)` that takes a string parameter `text`.\n",
    "- Inside the function, use a loop or list comprehension to create a new string that only includes alphanumeric characters and spaces. Hint: You can the string methods `.isalnum()` and `.ischar()`.\n",
    "- Return the cleaned text.\n",
    "- Call the function with a sample string (e.g., \"NLP is great! Isn't it?\") and print the result."
   ]
  },
  {
   "cell_type": "markdown",
   "metadata": {},
   "source": [
    "<details>\n",
    "<summary>Show solution</summary>"
   ]
  },
  {
   "cell_type": "code",
   "execution_count": 19,
   "metadata": {},
   "outputs": [
    {
     "name": "stdout",
     "output_type": "stream",
     "text": [
      "Cleaned text: NLP is great Isnt it\n"
     ]
    }
   ],
   "source": [
    "def remove_punctuation(text: str):\n",
    "    # Use list comprehension to filter out punctuation\n",
    "    cleaned_text = ''.join(char for char in text if char.isalnum() or char.isspace())\n",
    "    return cleaned_text\n",
    "\n",
    "# Sample usage\n",
    "text = \"NLP is great! Isn't it?\"\n",
    "result = remove_punctuation(text)\n",
    "print(\"Cleaned text:\", result)  # Output: Cleaned text: NLP is great Isnt it"
   ]
  },
  {
   "cell_type": "markdown",
   "metadata": {},
   "source": [
    "</details>"
   ]
  },
  {
   "cell_type": "markdown",
   "metadata": {},
   "source": [
    "## Exercise 4: Average Word Length\n",
    "\n",
    "**Task:** Write a function to calculate the average length of words in a sentence.\n",
    "\n",
    "**Instructions:**\n",
    "\n",
    "- Define a function called `average_word_length(sentence)` that takes a string parameter `sentence`.\n",
    "- Inside the function, split the sentence into words, calculate the average length of the words, and return the result.\n",
    "- Call the function with a sample sentence (e.g., \"Natural Language Processing is powerful\") and print the average length.\n"
   ]
  },
  {
   "cell_type": "markdown",
   "metadata": {},
   "source": [
    "<details>\n",
    "<summary>Show solution</summary>"
   ]
  },
  {
   "cell_type": "code",
   "execution_count": 20,
   "metadata": {},
   "outputs": [
    {
     "name": "stdout",
     "output_type": "stream",
     "text": [
      "Average word length: 7.0\n"
     ]
    }
   ],
   "source": [
    "def average_word_length(sentence):\n",
    "    words = sentence.split()\n",
    "    if len(words) == 0:\n",
    "        return 0\n",
    "    total_length = sum(len(word) for word in words)\n",
    "    return total_length / len(words)\n",
    "\n",
    "# Sample usage\n",
    "sentence = \"Natural Language Processing is powerful\"\n",
    "result = average_word_length(sentence)\n",
    "print(\"Average word length:\", result)  "
   ]
  },
  {
   "cell_type": "markdown",
   "metadata": {},
   "source": [
    "</details>"
   ]
  }
 ],
 "metadata": {
  "kernelspec": {
   "display_name": ".script_venv",
   "language": "python",
   "name": "python3"
  },
  "language_info": {
   "codemirror_mode": {
    "name": "ipython",
    "version": 3
   },
   "file_extension": ".py",
   "mimetype": "text/x-python",
   "name": "python",
   "nbconvert_exporter": "python",
   "pygments_lexer": "ipython3",
   "version": "3.12.3"
  }
 },
 "nbformat": 4,
 "nbformat_minor": 2
}
