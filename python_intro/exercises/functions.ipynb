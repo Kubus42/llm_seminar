{
 "cells": [
  {
   "cell_type": "raw",
   "metadata": {
    "vscode": {
     "languageId": "raw"
    }
   },
   "source": [
    "---\n",
    "title: \"Exercise: Functions\"\n",
    "format:\n",
    "  html:\n",
    "    code-fold: false\n",
    "    code-overflow: wrap\n",
    "jupyter: python3\n",
    "---"
   ]
  },
  {
   "cell_type": "markdown",
   "metadata": {},
   "source": [
    "## Exercise 1: Function to Count Words\n",
    "**Task:** Write a function called `count_words(text)` that takes a string of text as input and returns the number of words in it.\n",
    "\n",
    "**Instructions:**\n",
    "\n",
    "- Define a function `count_words(text)`.\n",
    "- Split the `text` into words using `split()`.\n",
    "- Return the number of words.\n",
    "- Test the function with different sentences."
   ]
  },
  {
   "cell_type": "markdown",
   "metadata": {},
   "source": [
    "<details>\n",
    "<summary>Show solution</summary>"
   ]
  },
  {
   "cell_type": "code",
   "execution_count": 27,
   "metadata": {},
   "outputs": [
    {
     "name": "stdout",
     "output_type": "stream",
     "text": [
      "5\n"
     ]
    }
   ],
   "source": [
    "def count_words(text):\n",
    "    words = text.split()\n",
    "    return len(words)\n",
    "\n",
    "sentence = \"Natural language processing is fun!\"\n",
    "print(count_words(sentence))  # Output: 5"
   ]
  },
  {
   "cell_type": "markdown",
   "metadata": {},
   "source": [
    "</details>"
   ]
  },
  {
   "cell_type": "markdown",
   "metadata": {},
   "source": [
    "## Exercise 2: Function to Convert Text to Lowercase\n",
    "**Task:** Write a function called `convert_to_lowercase(text)` that takes a string of text and returns it with all characters in lowercase.\n",
    "\n",
    "**Instructions:**\n",
    "\n",
    "- Define a function `convert_to_lowercase(text)`.\n",
    "- Use the `.lower()` method to convert the text to lowercase.\n",
    "- Return the modified text.\n",
    "- Test the function with various sentences.\n"
   ]
  },
  {
   "cell_type": "markdown",
   "metadata": {},
   "source": [
    "<details>\n",
    "<summary>Show solution</summary>"
   ]
  },
  {
   "cell_type": "code",
   "execution_count": 28,
   "metadata": {},
   "outputs": [
    {
     "name": "stdout",
     "output_type": "stream",
     "text": [
      "nlp can be challenging but rewarding!\n"
     ]
    }
   ],
   "source": [
    "def convert_to_lowercase(text):\n",
    "    return text.lower()\n",
    "\n",
    "text = \"NLP Can Be Challenging But REWARDING!\"\n",
    "print(convert_to_lowercase(text))  # Output: \"nlp can be challenging but rewarding!\""
   ]
  },
  {
   "cell_type": "markdown",
   "metadata": {},
   "source": [
    "</details>"
   ]
  },
  {
   "cell_type": "markdown",
   "metadata": {},
   "source": [
    "## Exercise 3: Function to Replace a Word\n",
    "**Task:** Create a function called `replace_word(text, old_word, new_word)` that takes a string of text, a word to be replaced, and the new word, then returns the modified text.\n",
    "\n",
    "**Instructions:**\n",
    "\n",
    "- Define a function `replace_word(text, old_word, new_word)`.\n",
    "- Use the `.replace()` method to replace `old_word` with `new_word`.\n",
    "- Return the modified text.\n",
    "- Test the function with different sentences.\n"
   ]
  },
  {
   "cell_type": "markdown",
   "metadata": {},
   "source": [
    "<details>\n",
    "<summary>Show solution</summary>"
   ]
  },
  {
   "cell_type": "code",
   "execution_count": 29,
   "metadata": {},
   "outputs": [
    {
     "name": "stdout",
     "output_type": "stream",
     "text": [
      "NLP is fun, and learning NLP is rewarding.\n"
     ]
    }
   ],
   "source": [
    "def replace_word(text, old_word, new_word):\n",
    "    return text.replace(old_word, new_word)\n",
    "\n",
    "text = \"Python is fun, and learning Python is rewarding.\"\n",
    "print(replace_word(text, \"Python\", \"NLP\"))  # Output: \"NLP is fun, and learning NLP is rewarding.\""
   ]
  },
  {
   "cell_type": "markdown",
   "metadata": {},
   "source": [
    "</details>"
   ]
  },
  {
   "cell_type": "markdown",
   "metadata": {
    "vscode": {
     "languageId": "raw"
    }
   },
   "source": [
    "## Exercise 4: Word Frequency Counter\n",
    "\n",
    "**Task:** Create a function to count the frequency of a specific word in a given sentence.\n",
    "\n",
    "**Instructions:**\n",
    "\n",
    "- Define a function called `word_frequency(sentence, word)` that takes a string parameter `sentence` and a string parameter `word`.\n",
    "- Inside the function, use the `split()` method to break the sentence into words, then count how many times `word` appears in the list. Hint: Use the list method `.count()`.\n",
    "- Return the count.\n",
    "- Call the function with a sample sentence and word, then print the result."
   ]
  },
  {
   "cell_type": "markdown",
   "metadata": {
    "vscode": {
     "languageId": "raw"
    }
   },
   "source": [
    "<details>\n",
    "<summary>Show solution</summary>"
   ]
  },
  {
   "cell_type": "code",
   "execution_count": 30,
   "metadata": {},
   "outputs": [
    {
     "name": "stdout",
     "output_type": "stream",
     "text": [
      "The word 'NLP' appears 2 times.\n"
     ]
    }
   ],
   "source": [
    "def word_frequency(sentence, word):\n",
    "    words = sentence.split()\n",
    "    return words.count(word)\n",
    "\n",
    "# Sample usage\n",
    "sentence = \"NLP is great and NLP is fun\"\n",
    "word = \"NLP\"\n",
    "result = word_frequency(sentence, word)\n",
    "print(f\"The word '{word}' appears {result} times.\")  # Output: The word 'NLP' appears 2 times."
   ]
  },
  {
   "cell_type": "markdown",
   "metadata": {},
   "source": [
    "</details>"
   ]
  },
  {
   "cell_type": "markdown",
   "metadata": {},
   "source": [
    "## Exercise 5: Sentence Reversal\n",
    "\n",
    "**Task:** Write a function that reverses the words in a sentence.\n",
    "\n",
    "**Instructions:**\n",
    "\n",
    "- Define a function called `reverse_sentence(sentence)` that takes a string parameter `sentence`.\n",
    "- Inside the function, split the sentence into words, reverse the order of the words, and then join them back into a single string.\n",
    "- Return the reversed sentence.\n",
    "- Call the function with a sample sentence and print the result."
   ]
  },
  {
   "cell_type": "markdown",
   "metadata": {},
   "source": [
    "<details>\n",
    "<summary>Show solution</summary>"
   ]
  },
  {
   "cell_type": "code",
   "execution_count": 31,
   "metadata": {},
   "outputs": [
    {
     "name": "stdout",
     "output_type": "stream",
     "text": [
      "Reversed sentence: fun is Processing Language Natural\n"
     ]
    }
   ],
   "source": [
    "def reverse_sentence(sentence):\n",
    "    words = sentence.split()\n",
    "    reversed_words = words[::-1]\n",
    "    return ' '.join(reversed_words)\n",
    "\n",
    "# Sample usage\n",
    "sentence = \"Natural Language Processing is fun\"\n",
    "result = reverse_sentence(sentence)\n",
    "print(\"Reversed sentence:\", result)  # Output: Reversed sentence: fun is Processing Language Natural"
   ]
  },
  {
   "cell_type": "markdown",
   "metadata": {},
   "source": [
    "## Exercise 6: Remove Punctuation\n",
    "\n",
    "**Task:** Create a function to remove punctuation from a given string.\n",
    "\n",
    "**Instructions:**\n",
    "\n",
    "- Define a function called `remove_punctuation(text)` that takes a string parameter `text`.\n",
    "- Inside the function, use a loop or list comprehension to create a new string that only includes alphanumeric characters and spaces. Hint: You can the string methods `.isalnum()` and `.ischar()`.\n",
    "- Return the cleaned text.\n",
    "- Call the function with a sample string (e.g., \"NLP is great! Isn't it?\") and print the result."
   ]
  },
  {
   "cell_type": "markdown",
   "metadata": {},
   "source": [
    "<details>\n",
    "<summary>Show solution</summary>"
   ]
  },
  {
   "cell_type": "code",
   "execution_count": 32,
   "metadata": {},
   "outputs": [
    {
     "name": "stdout",
     "output_type": "stream",
     "text": [
      "Cleaned text: NLP is great Isnt it\n"
     ]
    }
   ],
   "source": [
    "def remove_punctuation(text: str):\n",
    "    # Use list comprehension to filter out punctuation\n",
    "    cleaned_text = ''.join(char for char in text if char.isalnum() or char.isspace())\n",
    "    return cleaned_text\n",
    "\n",
    "# Sample usage\n",
    "text = \"NLP is great! Isn't it?\"\n",
    "result = remove_punctuation(text)\n",
    "print(\"Cleaned text:\", result)  # Output: Cleaned text: NLP is great Isnt it"
   ]
  },
  {
   "cell_type": "markdown",
   "metadata": {},
   "source": [
    "</details>"
   ]
  },
  {
   "cell_type": "markdown",
   "metadata": {},
   "source": [
    "## Exercise 7: Average Word Length\n",
    "\n",
    "**Task:** Write a function to calculate the average length of words in a sentence.\n",
    "\n",
    "**Instructions:**\n",
    "\n",
    "- Define a function called `average_word_length(sentence)` that takes a string parameter `sentence`.\n",
    "- Inside the function, split the sentence into words, calculate the average length of the words, and return the result.\n",
    "- Call the function with a sample sentence (e.g., \"Natural Language Processing is powerful\") and print the average length.\n"
   ]
  },
  {
   "cell_type": "markdown",
   "metadata": {},
   "source": [
    "<details>\n",
    "<summary>Show solution</summary>"
   ]
  },
  {
   "cell_type": "code",
   "execution_count": 33,
   "metadata": {},
   "outputs": [
    {
     "name": "stdout",
     "output_type": "stream",
     "text": [
      "Average word length: 7.0\n"
     ]
    }
   ],
   "source": [
    "def average_word_length(sentence):\n",
    "    words = sentence.split()\n",
    "    if len(words) == 0:\n",
    "        return 0\n",
    "    total_length = sum(len(word) for word in words)\n",
    "    return total_length / len(words)\n",
    "\n",
    "# Sample usage\n",
    "sentence = \"Natural Language Processing is powerful\"\n",
    "result = average_word_length(sentence)\n",
    "print(\"Average word length:\", result)  "
   ]
  },
  {
   "cell_type": "markdown",
   "metadata": {},
   "source": [
    "</details>"
   ]
  }
 ],
 "metadata": {
  "kernelspec": {
   "display_name": ".script_venv",
   "language": "python",
   "name": "python3"
  },
  "language_info": {
   "codemirror_mode": {
    "name": "ipython",
    "version": 3
   },
   "file_extension": ".py",
   "mimetype": "text/x-python",
   "name": "python",
   "nbconvert_exporter": "python",
   "pygments_lexer": "ipython3",
   "version": "3.12.3"
  }
 },
 "nbformat": 4,
 "nbformat_minor": 2
}
