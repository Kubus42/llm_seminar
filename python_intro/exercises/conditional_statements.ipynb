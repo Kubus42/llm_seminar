{
 "cells": [
  {
   "cell_type": "raw",
   "metadata": {
    "vscode": {
     "languageId": "raw"
    }
   },
   "source": [
    "---\n",
    "title: \"Exercise: Conditional Statements\"\n",
    "format:\n",
    "  html:\n",
    "    code-fold: false\n",
    "    code-overflow: wrap\n",
    "jupyter: python3\n",
    "---"
   ]
  },
  {
   "cell_type": "markdown",
   "metadata": {
    "vscode": {
     "languageId": "raw"
    }
   },
   "source": [
    "## Exercise 1: Check Palindrome\n",
    "\n",
    "**Task:** Write a function that checks if a given word is a palindrome.\n",
    "\n",
    "**Instructions:**\n",
    "\n",
    "- Define a function called `is_palindrome(word)` that takes a string parameter `word`.\n",
    "- Inside the function, use conditional statements to check if the word is the same when reversed.\n",
    "- Return `True` if it is a palindrome and `False` otherwise.\n",
    "- Call the function with a sample word (e.g., \"radar\") and print the result."
   ]
  },
  {
   "cell_type": "markdown",
   "metadata": {
    "vscode": {
     "languageId": "raw"
    }
   },
   "source": [
    "<details>\n",
    "<summary>Show solution</summary>"
   ]
  },
  {
   "cell_type": "code",
   "execution_count": 1,
   "metadata": {},
   "outputs": [
    {
     "name": "stdout",
     "output_type": "stream",
     "text": [
      "Is 'radar' a palindrome? True\n"
     ]
    }
   ],
   "source": [
    "def is_palindrome(word):\n",
    "    return word == word[::-1]\n",
    "\n",
    "# Sample usage\n",
    "result = is_palindrome(\"radar\")\n",
    "print(\"Is 'radar' a palindrome?\", result)  "
   ]
  },
  {
   "cell_type": "markdown",
   "metadata": {},
   "source": [
    "</details>"
   ]
  },
  {
   "cell_type": "markdown",
   "metadata": {},
   "source": [
    "## Exercise 2: Categorize Word Length\n",
    "\n",
    "**Task:** Create a function that categorizes a word as short, medium, or long based on its length.\n",
    "\n",
    "**Instructions:**\n",
    "\n",
    "- Define a function called `categorize_word_length(word)` that takes a string parameter `word`.\n",
    "- Inside the function, use conditional statements to categorize the word based on the following criteria:\n",
    "  - Short: 1-3 letters\n",
    "  - Medium: 4-6 letters\n",
    "  - Long: More than 6 letters\n",
    "- Return the category as a string.\n",
    "- Call the function with a sample word (e.g., \"NLP\") and print the result.\n"
   ]
  },
  {
   "cell_type": "markdown",
   "metadata": {},
   "source": [
    "<details>\n",
    "<summary>Show solution</summary>"
   ]
  },
  {
   "cell_type": "code",
   "execution_count": 2,
   "metadata": {},
   "outputs": [],
   "source": [
    "def categorize_word_length(word):\n",
    "    length = len(word)\n",
    "    \n",
    "    if length <= 3:\n",
    "        return \"Short\"\n",
    "    elif 4 <= length <= 6:\n",
    "        return \"Medium\"\n",
    "    else:\n",
    "        return \"Long\"\n",
    "\n",
    "# Sample usage\n",
    "result = categorize_word_length(\"NLP\")"
   ]
  },
  {
   "cell_type": "markdown",
   "metadata": {},
   "source": [
    "## Exercise 3: Grade Classification\n",
    "\n",
    "**Task:** Create a function that classifies a score into letter grades.\n",
    "\n",
    "**Instructions:**\n",
    "\n",
    "- Define a function called `grade_classification(score)` that takes an integer parameter `score`.\n",
    "- Inside the function, use conditional statements to classify the score:\n",
    "  - A: 90-100\n",
    "  - B: 80-89\n",
    "  - C: 70-79\n",
    "  - D: 60-69\n",
    "  - F: Below 60\n",
    "- Return the letter grade.\n",
    "- Call the function with a sample score (e.g., 85) and print the result."
   ]
  },
  {
   "cell_type": "markdown",
   "metadata": {},
   "source": [
    "<details>\n",
    "<summary>Show solution</summary>"
   ]
  },
  {
   "cell_type": "code",
   "execution_count": 3,
   "metadata": {},
   "outputs": [
    {
     "name": "stdout",
     "output_type": "stream",
     "text": [
      "The letter grade is: B\n"
     ]
    }
   ],
   "source": [
    "def grade_classification(score):\n",
    "    if 90 <= score <= 100:\n",
    "        return \"A\"\n",
    "    elif 80 <= score < 90:\n",
    "        return \"B\"\n",
    "    elif 70 <= score < 80:\n",
    "        return \"C\"\n",
    "    elif 60 <= score < 70:\n",
    "        return \"D\"\n",
    "    else:\n",
    "        return \"F\"\n",
    "\n",
    "# Sample usage\n",
    "result = grade_classification(85)\n",
    "print(\"The letter grade is:\", result)  "
   ]
  },
  {
   "cell_type": "markdown",
   "metadata": {},
   "source": [
    "</details>"
   ]
  }
 ],
 "metadata": {
  "kernelspec": {
   "display_name": ".script_venv",
   "language": "python",
   "name": "python3"
  },
  "language_info": {
   "codemirror_mode": {
    "name": "ipython",
    "version": 3
   },
   "file_extension": ".py",
   "mimetype": "text/x-python",
   "name": "python",
   "nbconvert_exporter": "python",
   "pygments_lexer": "ipython3",
   "version": "3.12.3"
  }
 },
 "nbformat": 4,
 "nbformat_minor": 2
}
