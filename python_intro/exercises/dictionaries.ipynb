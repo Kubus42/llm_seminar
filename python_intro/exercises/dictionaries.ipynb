{
 "cells": [
  {
   "cell_type": "raw",
   "metadata": {
    "vscode": {
     "languageId": "raw"
    }
   },
   "source": [
    "---\n",
    "title: \"Exercise: Dictionaries\"\n",
    "format:\n",
    "  html:\n",
    "    code-fold: false\n",
    "    code-overflow: wrap\n",
    "jupyter: python3\n",
    "---"
   ]
  },
  {
   "cell_type": "markdown",
   "metadata": {
    "vscode": {
     "languageId": "raw"
    }
   },
   "source": [
    "## Exercise 1: Create a Word Count Dictionary\n",
    "\n",
    "**Task:** Write a function that counts the frequency of each word in a given list.\n",
    "\n",
    "**Instructions:**\n",
    "\n",
    "- Define a function called `word_count(word_list)` that takes a list of strings `word_list`.\n",
    "- Inside the function, create a dictionary to store the word counts.\n",
    "- Loop through the list and update the dictionary with the frequency of each word.\n",
    "- Return the dictionary.\n",
    "- Call the function with a sample list (e.g., `[\"NLP\", \"is\", \"fun\", \"NLP\"]`) and print the result."
   ]
  },
  {
   "cell_type": "markdown",
   "metadata": {
    "vscode": {
     "languageId": "raw"
    }
   },
   "source": [
    "<details>\n",
    "<summary>Show solution</summary>"
   ]
  },
  {
   "cell_type": "code",
   "execution_count": 1,
   "metadata": {},
   "outputs": [
    {
     "name": "stdout",
     "output_type": "stream",
     "text": [
      "Word count dictionary: {'NLP': 2, 'is': 1, 'fun': 1}\n"
     ]
    }
   ],
   "source": [
    "def word_count(word_list):\n",
    "    count_dict = {}\n",
    "    \n",
    "    for word in word_list:\n",
    "        count_dict[word] = count_dict.get(word, 0) + 1\n",
    "    \n",
    "    return count_dict\n",
    "\n",
    "# Sample usage\n",
    "words = [\"NLP\", \"is\", \"fun\", \"NLP\"]\n",
    "result = word_count(words)\n",
    "print(\"Word count dictionary:\", result)  "
   ]
  },
  {
   "cell_type": "markdown",
   "metadata": {},
   "source": [
    "</details>"
   ]
  },
  {
   "cell_type": "markdown",
   "metadata": {},
   "source": [
    "## Exercise: Manage a Simple Chat Log\n",
    "\n",
    "**Task:** Create a simple chat log data structure using a dictionary to store messages between a user and a chatbot.\n",
    "\n",
    "**Instructions:**\n",
    "\n",
    "1. Define a function called `create_chat_log()` that initializes an empty chat log dictionary.\n",
    "2. Define another function called `add_message(chat_log, sender, message)` that takes the chat log, a sender (\"user\" or \"chatbot\"), and the message as parameters.\n",
    "   - The function should append the new message to a list under the appropriate sender in the chat log.\n",
    "3. Define a function called `get_chat_log(chat_log)` that returns the entire chat log.\n",
    "4. Call the functions to create a chat log, add messages from both the user and the chatbot, and then print the entire chat log.\n",
    "\n",
    "### Example structure of the chat log:\n",
    "```python\n",
    "{\n",
    "    \"user\": [\"Hello!\", \"What is NLP?\"],\n",
    "    \"chatbot\": [\"Hi there!\", \"NLP stands for Natural Language Processing.\"]\n",
    "}"
   ]
  },
  {
   "cell_type": "markdown",
   "metadata": {},
   "source": [
    "<details>\n",
    "<summary>Show solution</summary>"
   ]
  },
  {
   "cell_type": "code",
   "execution_count": 2,
   "metadata": {},
   "outputs": [
    {
     "name": "stdout",
     "output_type": "stream",
     "text": [
      "Chat Log: {'user': ['Hello!', 'What is NLP?'], 'chatbot': ['Hi there!', 'NLP stands for Natural Language Processing.']}\n"
     ]
    }
   ],
   "source": [
    "def create_chat_log():\n",
    "    return {\"user\": [], \"chatbot\": []}\n",
    "\n",
    "def add_message(chat_log, sender, message):\n",
    "    if sender in chat_log:\n",
    "        chat_log[sender].append(message)\n",
    "    else:\n",
    "        print(\"Sender not recognized. Use 'user' or 'chatbot'.\")\n",
    "\n",
    "def get_chat_log(chat_log):\n",
    "    return chat_log\n",
    "\n",
    "# Example usage\n",
    "chat_log = create_chat_log()\n",
    "add_message(chat_log, \"user\", \"Hello!\")\n",
    "add_message(chat_log, \"chatbot\", \"Hi there!\")\n",
    "add_message(chat_log, \"user\", \"What is NLP?\")\n",
    "add_message(chat_log, \"chatbot\", \"NLP stands for Natural Language Processing.\")\n",
    "\n",
    "# Print the chat log\n",
    "print(\"Chat Log:\", get_chat_log(chat_log))"
   ]
  },
  {
   "cell_type": "markdown",
   "metadata": {},
   "source": [
    "</details>"
   ]
  }
 ],
 "metadata": {
  "kernelspec": {
   "display_name": ".script_venv",
   "language": "python",
   "name": "python3"
  },
  "language_info": {
   "codemirror_mode": {
    "name": "ipython",
    "version": 3
   },
   "file_extension": ".py",
   "mimetype": "text/x-python",
   "name": "python",
   "nbconvert_exporter": "python",
   "pygments_lexer": "ipython3",
   "version": "3.12.3"
  }
 },
 "nbformat": 4,
 "nbformat_minor": 2
}
