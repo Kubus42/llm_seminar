{
 "cells": [
  {
   "cell_type": "raw",
   "metadata": {
    "vscode": {
     "languageId": "raw"
    }
   },
   "source": [
    "---\n",
    "title: \"Exercise: Variables and Data Types\"\n",
    "format:\n",
    "  html:\n",
    "    code-fold: false\n",
    "    code-overflow: wrap\n",
    "jupyter: python3\n",
    "---"
   ]
  },
  {
   "cell_type": "markdown",
   "metadata": {
    "vscode": {
     "languageId": "raw"
    }
   },
   "source": [
    "## Exercise 1: Greeting Message\n",
    "\n",
    "**Task:** Create a greeting message using a name.\n",
    "\n",
    "**Instructions:**\n",
    "\n",
    "- Define a variable called `name` and assign it your name as a string.\n",
    "- Create a variable called `greeting` that combines \"Hello, \" with the `name`.\n",
    "- Print the greeting message."
   ]
  },
  {
   "cell_type": "markdown",
   "metadata": {
    "vscode": {
     "languageId": "raw"
    }
   },
   "source": [
    "<details>\n",
    "<summary>Show solution</summary>"
   ]
  },
  {
   "cell_type": "code",
   "execution_count": 11,
   "metadata": {},
   "outputs": [
    {
     "name": "stdout",
     "output_type": "stream",
     "text": [
      "Hello, Alice\n"
     ]
    }
   ],
   "source": [
    "name = \"Alice\"\n",
    "\n",
    "# Combine to create a greeting message\n",
    "greeting = \"Hello, \" + name\n",
    "\n",
    "# Print the greeting\n",
    "print(greeting)  # Output: Hello, Alice"
   ]
  },
  {
   "cell_type": "markdown",
   "metadata": {
    "vscode": {
     "languageId": "raw"
    }
   },
   "source": [
    "</details>"
   ]
  },
  {
   "cell_type": "code",
   "execution_count": null,
   "metadata": {},
   "outputs": [],
   "source": []
  },
  {
   "cell_type": "markdown",
   "metadata": {},
   "source": [
    "## Exercise 2: Word Count\n",
    "\n",
    "**Task:** Count the number of words in a sentence.\n",
    "\n",
    "**Instructions:**\n",
    "\n",
    "- Define a variable called `sentence` and assign it a string value (e.g., \"Natural Language Processing is fun\").\n",
    "- Use the `split()` method to create a list of words from the sentence.\n",
    "- Calculate the number of words and print the result."
   ]
  },
  {
   "cell_type": "markdown",
   "metadata": {},
   "source": [
    "<details>\n",
    "<summary>Show solution</summary>"
   ]
  },
  {
   "cell_type": "code",
   "execution_count": 12,
   "metadata": {},
   "outputs": [
    {
     "name": "stdout",
     "output_type": "stream",
     "text": [
      "Number of words: 5\n"
     ]
    }
   ],
   "source": [
    "sentence = \"Natural Language Processing is fun\"\n",
    "\n",
    "# Split the sentence into words\n",
    "words = sentence.split()\n",
    "\n",
    "# Count the number of words\n",
    "word_count = len(words)\n",
    "\n",
    "# Print the word count\n",
    "print(\"Number of words:\", word_count)  # Output: Number of words: 5"
   ]
  },
  {
   "cell_type": "markdown",
   "metadata": {},
   "source": [
    "</details>"
   ]
  },
  {
   "cell_type": "markdown",
   "metadata": {},
   "source": [
    "## Exercise 3: Create a Simple List\n",
    "\n",
    "**Task:** Make a list of your favorite fruits.\n",
    "\n",
    "**Instructions:**\n",
    "\n",
    "- Define a variable called `fruits` and assign it a list of your three favorite fruits.\n",
    "- Print the list."
   ]
  },
  {
   "cell_type": "markdown",
   "metadata": {},
   "source": [
    "<details>\n",
    "<summary>Show solution</summary>"
   ]
  },
  {
   "cell_type": "code",
   "execution_count": 13,
   "metadata": {},
   "outputs": [
    {
     "name": "stdout",
     "output_type": "stream",
     "text": [
      "My favorite fruits are: ['apple', 'banana', 'cherry']\n"
     ]
    }
   ],
   "source": [
    "# Create a list of favorite fruits\n",
    "fruits = [\"apple\", \"banana\", \"cherry\"]\n",
    "\n",
    "# Print the list of fruits\n",
    "print(\"My favorite fruits are:\", fruits)  # Output: My favorite fruits are: ['apple', 'banana', 'cherry']"
   ]
  },
  {
   "cell_type": "markdown",
   "metadata": {},
   "source": [
    "</details>"
   ]
  },
  {
   "cell_type": "markdown",
   "metadata": {},
   "source": [
    "## Exercise 4: Check if Word is Present\n",
    "\n",
    "**Task:** Check if a specific word is in a list.\n",
    "\n",
    "**Instructions:**\n",
    "\n",
    "- Define a list of common NLP words (e.g., `nlp_words = [\"token\", \"entity\", \"vector\", \"model\"]`).\n",
    "- Define a variable called `search_word` with a value to check (e.g., `\"entity\"`).\n",
    "- Create a boolean variable `word_found` that checks if `search_word` is in the `nlp_words` list.\n",
    "- Print the result."
   ]
  },
  {
   "cell_type": "markdown",
   "metadata": {},
   "source": [
    "<details>\n",
    "<summary>Show solution</summary>"
   ]
  },
  {
   "cell_type": "code",
   "execution_count": 14,
   "metadata": {},
   "outputs": [
    {
     "name": "stdout",
     "output_type": "stream",
     "text": [
      "Is 'entity' in the list? True\n"
     ]
    }
   ],
   "source": [
    "nlp_words = [\"token\", \"entity\", \"vector\", \"model\"]\n",
    "search_word = \"entity\"\n",
    "\n",
    "# Check if the word is in the list\n",
    "word_found = search_word in nlp_words\n",
    "\n",
    "# Print the result\n",
    "print(f\"Is '{search_word}' in the list? {word_found}\")  # Output: Is 'entity' in the list? True"
   ]
  },
  {
   "cell_type": "markdown",
   "metadata": {},
   "source": [
    "</details>"
   ]
  }
 ],
 "metadata": {
  "kernelspec": {
   "display_name": ".script_venv",
   "language": "python",
   "name": "python3"
  },
  "language_info": {
   "codemirror_mode": {
    "name": "ipython",
    "version": 3
   },
   "file_extension": ".py",
   "mimetype": "text/x-python",
   "name": "python",
   "nbconvert_exporter": "python",
   "pygments_lexer": "ipython3",
   "version": "3.12.3"
  }
 },
 "nbformat": 4,
 "nbformat_minor": 2
}
