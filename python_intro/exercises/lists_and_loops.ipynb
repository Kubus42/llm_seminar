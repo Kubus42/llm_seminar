{
 "cells": [
  {
   "cell_type": "raw",
   "metadata": {
    "vscode": {
     "languageId": "raw"
    }
   },
   "source": [
    "---\n",
    "title: \"Exercise: Lists and Loops\"\n",
    "format:\n",
    "  html:\n",
    "    code-fold: false\n",
    "    code-overflow: wrap\n",
    "jupyter: python3\n",
    "---"
   ]
  },
  {
   "cell_type": "markdown",
   "metadata": {
    "vscode": {
     "languageId": "raw"
    }
   },
   "source": [
    "## Exercise 1: Count Vowels in a List of Words\n",
    "\n",
    "**Task:** Write a function that counts the total number of vowels in a list of words.\n",
    "\n",
    "**Instructions:**\n",
    "\n",
    "- Define a function called `count_vowels(word_list)` that takes a list of strings `word_list`.\n",
    "- Inside the function, loop through each word in the list, count the vowels (a, e, i, o, u) in each word, and keep a running total.\n",
    "- Return the total count of vowels.\n",
    "- Call the function with a sample list (e.g., `[\"NLP\", \"is\", \"fun\"]`) and print the result."
   ]
  },
  {
   "cell_type": "markdown",
   "metadata": {
    "vscode": {
     "languageId": "raw"
    }
   },
   "source": [
    "<details>\n",
    "<summary>Show solution</summary>"
   ]
  },
  {
   "cell_type": "code",
   "execution_count": 5,
   "metadata": {},
   "outputs": [
    {
     "name": "stdout",
     "output_type": "stream",
     "text": [
      "Total number of vowels: 2\n"
     ]
    }
   ],
   "source": [
    "def count_vowels(word_list):\n",
    "    vowels = 'aeiouAEIOU'\n",
    "    total_vowels = 0\n",
    "\n",
    "    for word in word_list:\n",
    "        for char in word:\n",
    "            if char in vowels:\n",
    "                total_vowels += 1\n",
    "                \n",
    "    return total_vowels\n",
    "\n",
    "# Sample usage\n",
    "words = [\"NLP\", \"is\", \"fun\"]\n",
    "result = count_vowels(words)\n",
    "print(\"Total number of vowels:\", result)  "
   ]
  },
  {
   "cell_type": "markdown",
   "metadata": {},
   "source": [
    "</details>"
   ]
  },
  {
   "cell_type": "markdown",
   "metadata": {},
   "source": [
    "## Exercise 2: Filter Long Words\n",
    "\n",
    "**Task:** Create a function that filters out words longer than a specified length from a list.\n",
    "\n",
    "**Instructions:**\n",
    "\n",
    "- Define a function called `filter_long_words(word_list, length)` that takes a list of strings `word_list` and an integer `length`.\n",
    "- Inside the function, use a loop to create a new list that contains only the words from the original list that have a length less than or equal to `length`.\n",
    "- Return the new list.\n",
    "- Call the function with a sample list and a length (e.g., `[\"Natural\", \"Language\", \"Processing\", \"is\", \"fun\"]`, length=4) and print the result."
   ]
  },
  {
   "cell_type": "markdown",
   "metadata": {},
   "source": [
    "<details>\n",
    "<summary>Show solution</summary>"
   ]
  },
  {
   "cell_type": "code",
   "execution_count": 6,
   "metadata": {},
   "outputs": [
    {
     "name": "stdout",
     "output_type": "stream",
     "text": [
      "Filtered words: ['is', 'fun']\n"
     ]
    }
   ],
   "source": [
    "def filter_long_words(word_list, length):\n",
    "    short_words = []\n",
    "    \n",
    "    for word in word_list:\n",
    "        if len(word) <= length:\n",
    "            short_words.append(word)\n",
    "    \n",
    "    return short_words\n",
    "\n",
    "# Sample usage\n",
    "words = [\"Natural\", \"Language\", \"Processing\", \"is\", \"fun\"]\n",
    "result = filter_long_words(words, 4)\n",
    "print(\"Filtered words:\", result)  "
   ]
  },
  {
   "cell_type": "markdown",
   "metadata": {},
   "source": [
    "## Exercise 3: Create a Word Frequency Dictionary\n",
    "\n",
    "**Task:** Write a function that creates a frequency dictionary from a list of words.\n",
    "\n",
    "**Instructions:**\n",
    "\n",
    "- Define a function called `word_frequency(word_list)` that takes a list of strings `word_list`.\n",
    "- Inside the function, use a loop to create a dictionary where the keys are the words and the values are the number of times each word appears in the list.\n",
    "- Return the frequency dictionary.\n",
    "- Call the function with a sample list (e.g., `[\"NLP\", \"is\", \"fun\", \"NLP\"]`) and print the result.\n"
   ]
  },
  {
   "cell_type": "markdown",
   "metadata": {},
   "source": [
    "<details>\n",
    "<summary>Show solution</summary>"
   ]
  },
  {
   "cell_type": "code",
   "execution_count": 7,
   "metadata": {},
   "outputs": [
    {
     "name": "stdout",
     "output_type": "stream",
     "text": [
      "Word frequency: {'NLP': 2, 'is': 1, 'fun': 1}\n"
     ]
    }
   ],
   "source": [
    "def word_frequency(word_list):\n",
    "    frequency_dict = {}\n",
    "\n",
    "    for word in word_list:\n",
    "        if word in frequency_dict:\n",
    "            frequency_dict[word] += 1\n",
    "        else:\n",
    "            frequency_dict[word] = 1\n",
    "            \n",
    "    return frequency_dict\n",
    "\n",
    "# Sample usage\n",
    "words = [\"NLP\", \"is\", \"fun\", \"NLP\"]\n",
    "result = word_frequency(words)\n",
    "print(\"Word frequency:\", result)  "
   ]
  },
  {
   "cell_type": "markdown",
   "metadata": {},
   "source": [
    "</details>"
   ]
  },
  {
   "cell_type": "markdown",
   "metadata": {},
   "source": [
    "## Exercise 4: Reverse Each Word in a List\n",
    "\n",
    "**Task:** Create a function that reverses each word in a list.\n",
    "\n",
    "**Instructions:**\n",
    "\n",
    "- Define a function called `reverse_words(word_list)` that takes a list of strings `word_list`.\n",
    "- Inside the function, use a loop to create a new list that contains each word reversed.\n",
    "- Return the new list.\n",
    "- Call the function with a sample list (e.g., `[\"NLP\", \"is\", \"fun\"]`) and print the result."
   ]
  },
  {
   "cell_type": "markdown",
   "metadata": {},
   "source": [
    "<details>\n",
    "<summary>Show solution</summary>"
   ]
  },
  {
   "cell_type": "code",
   "execution_count": 8,
   "metadata": {},
   "outputs": [
    {
     "name": "stdout",
     "output_type": "stream",
     "text": [
      "Reversed words: ['PLN', 'si', 'nuf']\n"
     ]
    }
   ],
   "source": [
    "def reverse_words(word_list):\n",
    "    reversed_list = []\n",
    "    \n",
    "    for word in word_list:\n",
    "        reversed_list.append(word[::-1])\n",
    "    \n",
    "    return reversed_list\n",
    "\n",
    "# Sample usage\n",
    "words = [\"NLP\", \"is\", \"fun\"]\n",
    "result = reverse_words(words)\n",
    "print(\"Reversed words:\", result) "
   ]
  },
  {
   "cell_type": "markdown",
   "metadata": {},
   "source": [
    "</details>"
   ]
  }
 ],
 "metadata": {
  "kernelspec": {
   "display_name": ".script_venv",
   "language": "python",
   "name": "python3"
  },
  "language_info": {
   "codemirror_mode": {
    "name": "ipython",
    "version": 3
   },
   "file_extension": ".py",
   "mimetype": "text/x-python",
   "name": "python",
   "nbconvert_exporter": "python",
   "pygments_lexer": "ipython3",
   "version": "3.12.3"
  }
 },
 "nbformat": 4,
 "nbformat_minor": 2
}
