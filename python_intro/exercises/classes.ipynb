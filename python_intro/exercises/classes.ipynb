{
 "cells": [
  {
   "cell_type": "raw",
   "metadata": {
    "vscode": {
     "languageId": "raw"
    }
   },
   "source": [
    "---\n",
    "title: \"Exercise: Classes\"\n",
    "format:\n",
    "  html:\n",
    "    code-fold: false\n",
    "    code-overflow: wrap\n",
    "jupyter: python3\n",
    "---"
   ]
  },
  {
   "cell_type": "markdown",
   "metadata": {
    "vscode": {
     "languageId": "raw"
    }
   },
   "source": [
    "## Exercise 1: Create a Simple Text Class\n",
    "\n",
    "**Task:** Write a class that represents a simple text document.\n",
    "\n",
    "**Instructions:**\n",
    "\n",
    "- Define a class called `TextDocument` with the following attributes:\n",
    "  - `title` (string)\n",
    "  - `content` (string)\n",
    "- Include a method called `word_count()` that returns the number of words in the content.\n",
    "- Create an instance of the `TextDocument` class, set the title and content, and print the word count."
   ]
  },
  {
   "cell_type": "markdown",
   "metadata": {
    "vscode": {
     "languageId": "raw"
    }
   },
   "source": [
    "<details>\n",
    "<summary>Show solution</summary>"
   ]
  },
  {
   "cell_type": "code",
   "execution_count": 1,
   "metadata": {},
   "outputs": [
    {
     "name": "stdout",
     "output_type": "stream",
     "text": [
      "Word count: 8\n"
     ]
    }
   ],
   "source": [
    "class TextDocument:\n",
    "    def __init__(self, title, content):\n",
    "        self.title = title\n",
    "        self.content = content\n",
    "    \n",
    "    def word_count(self):\n",
    "        return len(self.content.split())\n",
    "\n",
    "# Sample usage\n",
    "doc = TextDocument(\"My First Document\", \"This is a simple text document for NLP.\")\n",
    "print(f\"Word count: {doc.word_count()}\") "
   ]
  },
  {
   "cell_type": "markdown",
   "metadata": {},
   "source": [
    "</details>"
   ]
  },
  {
   "cell_type": "markdown",
   "metadata": {},
   "source": [
    "## Exercise 2: Extend the Text Class for Analysis\n",
    "\n",
    "**Task:** Extend the `TextDocument` class to include a method that counts the frequency of a specific word.\n",
    "\n",
    "**Instructions:**\n",
    "\n",
    "- Add a method called `count_word_frequency(self, word)` to the `TextDocument` class that counts how many times a specific word appears in the content.\n",
    "- Create an instance of the class and call this method with a sample word.\n"
   ]
  },
  {
   "cell_type": "markdown",
   "metadata": {},
   "source": [
    "<details>\n",
    "<summary>Show solution</summary>"
   ]
  },
  {
   "cell_type": "code",
   "execution_count": 2,
   "metadata": {},
   "outputs": [
    {
     "name": "stdout",
     "output_type": "stream",
     "text": [
      "Word count: 11\n",
      "Frequency of 'NLP': 1\n"
     ]
    }
   ],
   "source": [
    "class TextDocument:\n",
    "    def __init__(self, title, content):\n",
    "        self.title = title\n",
    "        self.content = content\n",
    "    \n",
    "    def word_count(self):\n",
    "        return len(self.content.split())\n",
    "    \n",
    "    def count_word_frequency(self, word):\n",
    "        return self.content.lower().split().count(word.lower())\n",
    "\n",
    "# Sample usage\n",
    "doc = TextDocument(\"My First Document\", \"This is a simple text document for NLP. NLP is fun.\")\n",
    "print(f\"Word count: {doc.word_count()}\") \n",
    "print(f\"Frequency of 'NLP': {doc.count_word_frequency('NLP')}\")  "
   ]
  },
  {
   "cell_type": "markdown",
   "metadata": {},
   "source": [
    "## Exercise 3: Create a Chat Class\n",
    "\n",
    "**Task:** Create a class that represents a chat session.\n",
    "\n",
    "**Instructions:**\n",
    "\n",
    "- Define a class called `ChatSession` with the following attributes:\n",
    "  - `messages` (list to store messages)\n",
    "- Include methods to:\n",
    "  - `add_message(sender, message)` that appends a message to the messages list.\n",
    "  - `get_chat_log()` that returns the chat log as a list of strings formatted as \"sender: message\".\n",
    "- Create an instance of the `ChatSession` class and demonstrate adding messages and retrieving the chat log."
   ]
  },
  {
   "cell_type": "markdown",
   "metadata": {},
   "source": [
    "<details>\n",
    "<summary>Show solution</summary>"
   ]
  },
  {
   "cell_type": "code",
   "execution_count": 3,
   "metadata": {},
   "outputs": [
    {
     "name": "stdout",
     "output_type": "stream",
     "text": [
      "Chat Log:\n",
      "User: Hello!\n",
      "Chatbot: Hi there! How can I assist you today?\n",
      "User: What is NLP?\n"
     ]
    }
   ],
   "source": [
    "class ChatSession:\n",
    "    def __init__(self):\n",
    "        self.messages = []\n",
    "    \n",
    "    def add_message(self, sender, message):\n",
    "        self.messages.append(f\"{sender}: {message}\")\n",
    "    \n",
    "    def get_chat_log(self):\n",
    "        return self.messages\n",
    "\n",
    "# Sample usage\n",
    "chat = ChatSession()\n",
    "chat.add_message(\"User\", \"Hello!\")\n",
    "chat.add_message(\"Chatbot\", \"Hi there! How can I assist you today?\")\n",
    "chat.add_message(\"User\", \"What is NLP?\")\n",
    "log = chat.get_chat_log()\n",
    "print(\"Chat Log:\")\n",
    "for message in log:\n",
    "    print(message)"
   ]
  },
  {
   "cell_type": "markdown",
   "metadata": {},
   "source": [
    "</details>"
   ]
  }
 ],
 "metadata": {
  "kernelspec": {
   "display_name": ".script_venv",
   "language": "python",
   "name": "python3"
  },
  "language_info": {
   "codemirror_mode": {
    "name": "ipython",
    "version": 3
   },
   "file_extension": ".py",
   "mimetype": "text/x-python",
   "name": "python",
   "nbconvert_exporter": "python",
   "pygments_lexer": "ipython3",
   "version": "3.12.3"
  }
 },
 "nbformat": 4,
 "nbformat_minor": 2
}
