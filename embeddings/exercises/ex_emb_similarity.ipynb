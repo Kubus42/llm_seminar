{
 "cells": [
  {
   "cell_type": "raw",
   "metadata": {},
   "source": [
    "---\n",
    "title: \"Exercise: Embedding similarity\"\n",
    "format:\n",
    "  html:\n",
    "    code-fold: true\n",
    "jupyter: python3\n",
    "---"
   ]
  },
  {
   "cell_type": "markdown",
   "metadata": {},
   "source": [
    "\n",
    "**Task:** Use the OpenAI embeddings API to compute the similarity between two given words or phrases.\n",
    "\n",
    "**Instructions:**\n",
    "\n",
    "- Choose two words or phrases with similar or related meanings.\n",
    "- Use the OpenAI embeddings API to obtain embeddings for both words or phrases.\n",
    "- Calculate the cosine similarity between the embeddings to measure their similarity.\n",
    "- Print the similarity score and interpret the results."
   ]
  },
  {
   "cell_type": "markdown",
   "metadata": {},
   "source": [
    "**Solution**"
   ]
  },
  {
   "cell_type": "code",
   "execution_count": 24,
   "metadata": {},
   "outputs": [],
   "source": [
    "import numpy as np\n",
    "\n",
    "def cosine_similarity(vec1: np.array, vec2: np.array) -> float: \n",
    "    return np.dot(vec1, vec2) / ( np.linalg.norm(vec1) * np.linalg.norm(vec2) )"
   ]
  },
  {
   "cell_type": "code",
   "execution_count": 25,
   "metadata": {
    "tags": []
   },
   "outputs": [],
   "source": [
    "import os\n",
    "\n",
    "from llm_utils.client import get_openai_client, OpenAIModels\n",
    "\n",
    "MODEL = OpenAIModels.EMBED.value\n",
    "\n",
    "# get the OpenAI client\n",
    "client = get_openai_client(\n",
    "    model=MODEL,\n",
    "    config_path=os.environ.get(\"CONFIG_PATH\")\n",
    ")\n",
    "\n",
    "# create the embeddings\n",
    "word_1 = \"king\"\n",
    "word_2 = \"queen\"\n",
    "\n",
    "response_1 = client.embeddings.create(input=word_1, model=MODEL)\n",
    "embedding_1 = response_1.data[0].embedding\n",
    "response_2 = client.embeddings.create(input=word_2, model=MODEL)\n",
    "embedding_2 = response_2.data[0].embedding"
   ]
  },
  {
   "cell_type": "code",
   "execution_count": 26,
   "metadata": {},
   "outputs": [
    {
     "name": "stdout",
     "output_type": "stream",
     "text": [
      "Cosine similarity between king and queen: 0.915.\n"
     ]
    }
   ],
   "source": [
    "# calculate the distance \n",
    "dist_12 = cosine_similarity(embedding_1, embedding_2)\n",
    "print(f\"Cosine similarity between {word_1} and {word_2}: {round(dist_12, 3)}.\")"
   ]
  },
  {
   "cell_type": "code",
   "execution_count": 27,
   "metadata": {},
   "outputs": [
    {
     "name": "stdout",
     "output_type": "stream",
     "text": [
      "Cosine similarity between king and pawn: 0.829.\n"
     ]
    }
   ],
   "source": [
    "word_3 = \"pawn\"\n",
    "embedding_3 = client.embeddings.create(input=word_3, model=MODEL).data[0].embedding\n",
    "\n",
    "dist_13 = cosine_similarity(embedding_1, embedding_3)\n",
    "print(f\"Cosine similarity between {word_1} and {word_3}: {round(dist_13, 3)}.\")"
   ]
  },
  {
   "cell_type": "markdown",
   "metadata": {},
   "source": [
    "\n",
    "**Task:** Use the OpenAI embeddings API and simple embedding arithmetics to introduce more context to word similarities.\n",
    "\n",
    "**Instructions:**\n",
    "\n",
    "- Create embeddings for the following three words: `python, snake, javascript` using the OpenAI API.\n",
    "- Calculate the cosine similarity between each pair.\n",
    "- Create another embedding for the word `reptile` and add it to `python`. You can use `numpy` for this.\n",
    "- Calculate the cosine similarity between `python` and this sum. What do you notice?"
   ]
  },
  {
   "cell_type": "markdown",
   "metadata": {},
   "source": [
    "**Solution**"
   ]
  },
  {
   "cell_type": "code",
   "execution_count": 28,
   "metadata": {},
   "outputs": [],
   "source": [
    "words = [\"python\", \"snake\", \"javascript\", \"reptile\"]\n",
    "response = client.embeddings.create(input=words, model=MODEL)\n",
    "embeddings = [emb.embedding for emb in response.data]"
   ]
  },
  {
   "cell_type": "code",
   "execution_count": 29,
   "metadata": {},
   "outputs": [
    {
     "name": "stdout",
     "output_type": "stream",
     "text": [
      "Similarity between 'python' and 'snake': 0.841.\n",
      "Similarity between 'python' and 'javascript': 0.85.\n",
      "Similarity between 'python + reptile' and 'snake': 0.894.\n"
     ]
    }
   ],
   "source": [
    "print(f\"Similarity between '{words[0]}' and '{words[1]}': {round(cosine_similarity(embeddings[0], embeddings[1]), 3)}.\")\n",
    "print(f\"Similarity between '{words[0]}' and '{words[2]}': {round(cosine_similarity(embeddings[0], embeddings[2]), 3)}.\")\n",
    "print(f\"Similarity between '{words[0]} + {words[3]}' and '{words[1]}': {round(cosine_similarity(np.array(embeddings[0]) + np.array(embeddings[3]), embeddings[1]), 3)}.\")"
   ]
  }
 ],
 "metadata": {
  "kernelspec": {
   "display_name": "script_venv",
   "language": "python",
   "name": "python3"
  },
  "language_info": {
   "codemirror_mode": {
    "name": "ipython",
    "version": 3
   },
   "file_extension": ".py",
   "mimetype": "text/x-python",
   "name": "python",
   "nbconvert_exporter": "python",
   "pygments_lexer": "ipython3",
   "version": "3.8.18"
  }
 },
 "nbformat": 4,
 "nbformat_minor": 2
}
