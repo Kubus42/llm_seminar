{
 "cells": [
  {
   "cell_type": "raw",
   "metadata": {},
   "source": [
    "---\n",
    "title: \"Exercise: OpenAI - Getting started\"\n",
    "format:\n",
    "  html:\n",
    "    code-fold: false\n",
    "jupyter: python3\n",
    "---"
   ]
  },
  {
   "cell_type": "markdown",
   "metadata": {},
   "source": [
    "\n",
    "**Task:** Explore the OpenAI `chat.completions` API.\n",
    "\n",
    "**Instructions:**\n",
    "\n",
    "- Generate a chat completion and analyze the response object `ChatCompletion`. What information do you get with each completion?\n",
    "- How can you access the actual completion of your prompt? \n",
    "- Use the [OpenAI API documentation](https://platform.openai.com/docs/introduction){.external} to find out what `choices` are and how they are used.\n",
    "- Play around with the parameters `temperature` and `top_p` for a simple prompt. What do you notice?"
   ]
  }
 ],
 "metadata": {
  "language_info": {
   "name": "python"
  }
 },
 "nbformat": 4,
 "nbformat_minor": 2
}
