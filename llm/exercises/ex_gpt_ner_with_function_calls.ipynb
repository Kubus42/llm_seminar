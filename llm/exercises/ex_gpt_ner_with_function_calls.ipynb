{
 "cells": [
  {
   "cell_type": "raw",
   "metadata": {},
   "source": [
    "---\n",
    "title: \"Exercise: NER with tool calling\"\n",
    "format:\n",
    "  html:\n",
    "    code-fold: false\n",
    "jupyter: python3\n",
    "---"
   ]
  },
  {
   "cell_type": "markdown",
   "metadata": {},
   "source": [
    "\n",
    "**Task:** Create a small script that uses tool (or function calling) to extract the following named entities from a given text: `City`, `State`, `Person`.\n",
    "\n",
    "**Instructions:**\n",
    "\n",
    "- Define an OpenAI `tool` with a function `named_entity_recognition`. \n",
    "- Choose an appropriate output format, for example: `{\"named_entities\": [{\"entity\": \"Mike\", \"label\": \"Person}, {\"entity\": \"Münster\", \"label\": \"City\"}]}`\n",
    "- Define a matching prompt in the role `system` and the text input for the role `user`.\n",
    "- Extract the result."
   ]
  },
  {
   "cell_type": "code",
   "execution_count": 1,
   "metadata": {},
   "outputs": [],
   "source": [
    "# prerequisites\n",
    "import os\n",
    "from llm_utils.client import get_openai_client\n",
    "\n",
    "MODEL = \"gpt4\"\n",
    "\n",
    "client = get_openai_client(\n",
    "    model=MODEL,\n",
    "    config_path=os.environ.get(\"CONFIG_PATH\")\n",
    ")\n",
    "\n",
    "# here goes your code"
   ]
  },
  {
   "cell_type": "markdown",
   "metadata": {},
   "source": [
    "<details>\n",
    "<summary>Show solution</summary>"
   ]
  },
  {
   "cell_type": "code",
   "execution_count": 19,
   "metadata": {},
   "outputs": [],
   "source": [
    "tools = [\n",
    "    {\n",
    "        \"type\": \"function\",\n",
    "        \"function\": {\n",
    "            \"name\": \"named_entity_recognition\",\n",
    "            \"description\": \"Extract the named entities from the given text.\",\n",
    "            \"parameters\": {\n",
    "                \"type\": \"object\",\n",
    "                \"properties\": {\n",
    "                    \"named_entities\": {\n",
    "                        \"type\": \"array\",\n",
    "                        \"description\": \"A list of all extracted named entities in form of dictionaries containing the entity name and the label\",\n",
    "                        \"items\": {\n",
    "                            \"type\": \"object\",\n",
    "                            \"properties\": {\n",
    "                                \"entity\": {\"type\": \"string\"}, \n",
    "                                \"label\": {\"type\": \"string\"}\n",
    "                            },\n",
    "                            \"required\": [\"entity\", \"label\"]\n",
    "                        }\n",
    "                    },\n",
    "                },\n",
    "                \"required\": [\"named_entities\"],\n",
    "            },\n",
    "        }\n",
    "    }\n",
    "]"
   ]
  },
  {
   "cell_type": "code",
   "execution_count": 20,
   "metadata": {},
   "outputs": [
    {
     "data": {
      "text/plain": [
       "ChatCompletion(id='chatcmpl-99ALw7LjaBzZ63s5CMt9wDGn3aWhM', choices=[Choice(finish_reason='stop', index=0, logprobs=None, message=ChatCompletionMessage(content=None, role='assistant', function_call=None, tool_calls=[ChatCompletionMessageToolCall(id='call_1aw75NLIUiEpdYMztdXRDZEh', function=Function(arguments='{\\n\"named_entities\": [\\n  {\\n    \"entity\": \"Leonard Hoffstaedter\",\\n    \"label\": \"Person\"\\n  },\\n  {\\n    \"entity\": \"Pasadena\",\\n    \"label\": \"City\"\\n  },\\n  {\\n    \"entity\": \"CA\",\\n    \"label\": \"State\"\\n  }\\n]\\n}', name='named_entity_recognition'), type='function')]), content_filter_results={})], created=1711971776, model='gpt-4', object='chat.completion', system_fingerprint=None, usage=CompletionUsage(completion_tokens=68, prompt_tokens=142, total_tokens=210), prompt_filter_results=[{'prompt_index': 0, 'content_filter_results': {'hate': {'filtered': False, 'severity': 'safe'}, 'self_harm': {'filtered': False, 'severity': 'safe'}, 'sexual': {'filtered': False, 'severity': 'safe'}, 'violence': {'filtered': False, 'severity': 'safe'}}}])"
      ]
     },
     "execution_count": 20,
     "metadata": {},
     "output_type": "execute_result"
    }
   ],
   "source": [
    "# define the prompts\n",
    "messages = []\n",
    "messages.append({\"role\": \"system\", \"content\": \"Extract all named entities from the provided text. Possible labels are 'City', 'State' or 'Person'. If no named entities are contained in the text, do not make assumptions and return nothing.\"})\n",
    "messages.append({\"role\": \"user\", \"content\": \"Leonard Hoffstaedter lives in Pasadena, CA.\"})\n",
    "\n",
    "response = client.chat.completions.create(\n",
    "    model=MODEL,\n",
    "    messages=messages,\n",
    "    tools=tools,\n",
    "    tool_choice={\"type\": \"function\", \"function\": {\"name\": \"named_entity_recognition\"}}\n",
    ")\n",
    "response\n",
    "\n"
   ]
  },
  {
   "cell_type": "code",
   "execution_count": 29,
   "metadata": {},
   "outputs": [
    {
     "name": "stdout",
     "output_type": "stream",
     "text": [
      "Leonard Hoffstaedter: Person\n",
      "Pasadena: City\n",
      "CA: State\n"
     ]
    }
   ],
   "source": [
    "# retrieve the result\n",
    "import json \n",
    "\n",
    "result = json.loads(response.choices[0].message.tool_calls[0].function.arguments)\n",
    "for named_entity in result[\"named_entities\"]: \n",
    "    print(f\"{named_entity['entity']}: {named_entity['label']}\")"
   ]
  },
  {
   "cell_type": "markdown",
   "metadata": {},
   "source": [
    "</details>"
   ]
  }
 ],
 "metadata": {
  "kernelspec": {
   "display_name": "script_venv",
   "language": "python",
   "name": "python3"
  },
  "language_info": {
   "codemirror_mode": {
    "name": "ipython",
    "version": 3
   },
   "file_extension": ".py",
   "mimetype": "text/x-python",
   "name": "python",
   "nbconvert_exporter": "python",
   "pygments_lexer": "ipython3",
   "version": "3.8.18"
  }
 },
 "nbformat": 4,
 "nbformat_minor": 2
}
