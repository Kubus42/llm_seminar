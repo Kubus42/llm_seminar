{
 "cells": [
  {
   "cell_type": "raw",
   "metadata": {},
   "source": [
    "---\n",
    "title: \"Exercise: GPT Chatbot\"\n",
    "format:\n",
    "  html:\n",
    "    code-fold: false\n",
    "jupyter: python3\n",
    "---"
   ]
  },
  {
   "cell_type": "markdown",
   "metadata": {},
   "source": [
    "\n",
    "**Task:** Create a simple chatbot using the OpenAI `chat.completions` API.\n",
    "\n",
    "**Instructions:**\n",
    "\n",
    "- Use the `chat.completions` API to send prompts to GPT, receive the answers and displaying them.\n",
    "- Stop the conversation when the user inputs the word `exit` instead of a new prompt.\n",
    "- Hint: Remember that GPT has no memory, so you always have to include the previous conversation in your prompts."
   ]
  },
  {
   "cell_type": "markdown",
   "metadata": {},
   "source": [
    "<details>\n",
    "<summary>Show solution</summary>"
   ]
  },
  {
   "cell_type": "code",
   "execution_count": 1,
   "metadata": {},
   "outputs": [],
   "source": [
    "#| eval: false\n",
    "\n",
    "import os\n",
    "from llm_utils.client import get_openai_client\n",
    "\n",
    "MODEL = \"gpt4o\"\n",
    "\n",
    "client = get_openai_client(\n",
    "    model=MODEL,\n",
    "    config_path=os.environ.get(\"CONFIG_PATH\")\n",
    ")\n",
    "\n",
    "\n",
    "class ChatGPT:\n",
    "    def __init__(self, model=MODEL):\n",
    "        self.model = model\n",
    "        self.client = client\n",
    "        self.messages = []\n",
    "\n",
    "    def chat_with_gpt(self, user_input: str):\n",
    "        self.messages.append({\n",
    "            \"role\": \"user\",\n",
    "            \"content\": user_input\n",
    "        })\n",
    "        response = self._generate_response(self.messages)\n",
    "        return response\n",
    "\n",
    "    def _generate_response(self, messages):\n",
    "        response = self.client.chat.completions.create(\n",
    "            model=self.model,\n",
    "            messages=messages,        \n",
    "            temperature=0.2, \n",
    "            max_tokens=150,\n",
    "            top_p=1.0\n",
    "        )\n",
    "        response_message = response.choices[0].message\n",
    "        self.messages.append({\n",
    "            \"role\": response_message.role,\n",
    "            \"content\": response_message.content\n",
    "        })\n",
    "\n",
    "        return response_message.content"
   ]
  },
  {
   "cell_type": "code",
   "execution_count": 2,
   "metadata": {},
   "outputs": [
    {
     "name": "stdout",
     "output_type": "stream",
     "text": [
      "User: Hello\n",
      "Bot: Hi there! How can I assist you today?\n",
      "User: \n",
      "Bot: It looks like your message got cut off. How can I help you today?\n"
     ]
    }
   ],
   "source": [
    "#| eval: false\n",
    "\n",
    "# Conversation loop\n",
    "chat_gpt = ChatGPT(model=\"gpt4\")\n",
    "\n",
    "while True:\n",
    "    user_input = input(\"User: \")\n",
    "\n",
    "    if user_input.lower() == 'exit':\n",
    "        break\n",
    "    \n",
    "    print(\"User:\", user_input)\n",
    "    \n",
    "    # Get bot response based on user input\n",
    "    bot_response = chat_gpt.chat_with_gpt(user_input)\n",
    "\n",
    "    print(\"Bot:\", bot_response)"
   ]
  },
  {
   "cell_type": "markdown",
   "metadata": {},
   "source": [
    "</details>"
   ]
  }
 ],
 "metadata": {
  "kernelspec": {
   "display_name": "script_venv",
   "language": "python",
   "name": "python3"
  },
  "language_info": {
   "codemirror_mode": {
    "name": "ipython",
    "version": 3
   },
   "file_extension": ".py",
   "mimetype": "text/x-python",
   "name": "python",
   "nbconvert_exporter": "python",
   "pygments_lexer": "ipython3",
   "version": "3.12.3"
  }
 },
 "nbformat": 4,
 "nbformat_minor": 2
}
