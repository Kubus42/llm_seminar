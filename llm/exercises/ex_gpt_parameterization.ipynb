{
 "cells": [
  {
   "cell_type": "raw",
   "metadata": {},
   "source": [
    "---\n",
    "title: \"Exercise: GPT Parameterization\"\n",
    "format:\n",
    "  html:\n",
    "    code-fold: false\n",
    "jupyter: python3\n",
    "---"
   ]
  },
  {
   "cell_type": "markdown",
   "metadata": {},
   "source": [
    "**Task:** Explore the parameterization possibilities of the OpenAI API for GPT. \n",
    "\n",
    "**Instructions:**\n",
    "\n",
    "Some possibilities are:\n",
    "\n",
    "- Use the `system` role in order to give instructions to the language model before the interaction with the user starts in order to change the response style of the model. \n",
    "- Change the `temparature` __or__ `top_p` parameters and explore the effect on your prompts. \n",
    "- Use the "
   ]
  },
  {
   "cell_type": "code",
   "execution_count": null,
   "metadata": {},
   "outputs": [],
   "source": [
    "import os\n",
    "from llm_utils.client import get_openai_client\n",
    "\n",
    "MODEL = \"gpt-4o\"\n",
    "\n",
    "client = get_openai_client(\n",
    "    model=MODEL,\n",
    "    config_path=os.environ.get(\"CONFIG_PATH\")\n",
    ")"
   ]
  },
  {
   "cell_type": "code",
   "execution_count": null,
   "metadata": {},
   "outputs": [],
   "source": [
    "# here goes your code"
   ]
  }
 ],
 "metadata": {
  "kernelspec": {
   "display_name": "script_venv",
   "language": "python",
   "name": "python3"
  },
  "language_info": {
   "codemirror_mode": {
    "name": "ipython",
    "version": 3
   },
   "file_extension": ".py",
   "mimetype": "text/x-python",
   "name": "python",
   "nbconvert_exporter": "python",
   "pygments_lexer": "ipython3",
   "version": "3.8.18"
  }
 },
 "nbformat": 4,
 "nbformat_minor": 2
}
