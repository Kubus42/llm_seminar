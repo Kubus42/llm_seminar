{
 "cells": [
  {
   "cell_type": "raw",
   "metadata": {},
   "source": [
    "---\n",
    "title: \"Exercise: Fuzzy matching\"\n",
    "format:\n",
    "  html:\n",
    "    code-fold: false\n",
    "    code-overflow: wrap\n",
    "jupyter: python3\n",
    "---"
   ]
  },
  {
   "cell_type": "markdown",
   "metadata": {},
   "source": [
    "**Task:** Write a function that helps finding the most similar words or tokens from a given list based on a user query using `rapidfuzz`.\n",
    "\n",
    "**Instructions:**\n",
    "\n",
    "- Write a Python function called `find_similar_words(query, word_list)` that takes a user query and a list of words or tokens as input.\n",
    "- Inside the function, use rapidfuzz to calculate the similarity between the query and each word/token in the list.\n",
    "- Return a list of tuples containing the word/token and its corresponding similarity score, sorted in descending order of similarity.\n"
   ]
  },
  {
   "cell_type": "code",
   "execution_count": 3,
   "metadata": {},
   "outputs": [],
   "source": [
    "word_list = [\"apple\", \"banana\", \"orange\", \"grape\", \"pineapple\", \"kiwi\"]\n",
    "query = \"appl\""
   ]
  },
  {
   "cell_type": "markdown",
   "metadata": {},
   "source": [
    "</details>"
   ]
  }
 ],
 "metadata": {
  "kernelspec": {
   "display_name": "script_venv",
   "language": "python",
   "name": "python3"
  },
  "language_info": {
   "codemirror_mode": {
    "name": "ipython",
    "version": 3
   },
   "file_extension": ".py",
   "mimetype": "text/x-python",
   "name": "python",
   "nbconvert_exporter": "python",
   "pygments_lexer": "ipython3",
   "version": "3.8.18"
  }
 },
 "nbformat": 4,
 "nbformat_minor": 2
}
