{
 "cells": [
  {
   "cell_type": "raw",
   "metadata": {},
   "source": [
    "---\n",
    "title: \"Exercise: NER with tool calling\"\n",
    "format:\n",
    "  html:\n",
    "    code-fold: false\n",
    "jupyter: python3\n",
    "---"
   ]
  },
  {
   "cell_type": "markdown",
   "metadata": {},
   "source": [
    "\n",
    "**Task:** Create a small script that uses tool (or function calling) to extract the following named entities from a given text: `City`, `State`, `Person`.\n",
    "\n",
    "**Instructions:**\n",
    "\n",
    "- Define an OpenAI `tool` with a function `named_entity_recognition`. \n",
    "- Choose an appropriate output format, for example: `{\"named_entities\": [{\"entity\": \"Mike\", \"label\": \"Person}, {\"entity\": \"Münster\", \"label\": \"City\"}]}`\n",
    "- Define a matching prompt in the role `system` and the text input for the role `user`.\n",
    "- Extract the result."
   ]
  },
  {
   "cell_type": "code",
   "execution_count": 1,
   "metadata": {},
   "outputs": [],
   "source": [
    "# prerequisites\n",
    "import os\n",
    "from llm_utils.client import get_openai_client\n",
    "\n",
    "MODEL = \"gpt4\"\n",
    "\n",
    "client = get_openai_client(\n",
    "    model=MODEL,\n",
    "    config_path=os.environ.get(\"CONFIG_PATH\")\n",
    ")\n",
    "\n",
    "# here goes your code"
   ]
  },
  {
   "cell_type": "markdown",
   "metadata": {},
   "source": [
    "</details>"
   ]
  }
 ],
 "metadata": {
  "kernelspec": {
   "display_name": "script_venv",
   "language": "python",
   "name": "python3"
  },
  "language_info": {
   "codemirror_mode": {
    "name": "ipython",
    "version": 3
   },
   "file_extension": ".py",
   "mimetype": "text/x-python",
   "name": "python",
   "nbconvert_exporter": "python",
   "pygments_lexer": "ipython3",
   "version": "3.8.18"
  }
 },
 "nbformat": 4,
 "nbformat_minor": 2
}
