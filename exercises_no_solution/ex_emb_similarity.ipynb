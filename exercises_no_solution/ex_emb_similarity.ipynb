{
 "cells": [
  {
   "cell_type": "raw",
   "metadata": {},
   "source": [
    "---\n",
    "title: \"Exercise: Embedding similarity\"\n",
    "format:\n",
    "  html:\n",
    "    code-fold: false\n",
    "jupyter: python3\n",
    "---"
   ]
  },
  {
   "cell_type": "markdown",
   "metadata": {},
   "source": [
    "\n",
    "**Task:** Use the OpenAI embeddings API to compute the similarity between two given words or phrases.\n",
    "\n",
    "**Instructions:**\n",
    "\n",
    "- Choose two words or phrases with similar or related meanings.\n",
    "- Use the OpenAI embeddings API to obtain embeddings for both words or phrases.\n",
    "- Calculate the cosine similarity between the embeddings to measure their similarity.\n",
    "- Print the similarity score and interpret the results."
   ]
  },
  {
   "cell_type": "markdown",
   "metadata": {},
   "source": [
    "</details>"
   ]
  },
  {
   "cell_type": "markdown",
   "metadata": {},
   "source": [
    "\n",
    "**Task:** Use the OpenAI embeddings API and simple embedding arithmetics to introduce more context to word similarities.\n",
    "\n",
    "**Instructions:**\n",
    "\n",
    "- Create embeddings for the following three words: `python, snake, javascript` using the OpenAI API.\n",
    "- Calculate the cosine similarity between each pair.\n",
    "- Create another embedding for the word `reptile` and add it to `python`. You can use `numpy` for this.\n",
    "- Calculate the cosine similarity between `python` and this sum. What do you notice?"
   ]
  },
  {
   "cell_type": "markdown",
   "metadata": {},
   "source": [
    "</details>"
   ]
  }
 ],
 "metadata": {
  "kernelspec": {
   "display_name": "script_venv",
   "language": "python",
   "name": "python3"
  },
  "language_info": {
   "codemirror_mode": {
    "name": "ipython",
    "version": 3
   },
   "file_extension": ".py",
   "mimetype": "text/x-python",
   "name": "python",
   "nbconvert_exporter": "python",
   "pygments_lexer": "ipython3",
   "version": "3.8.18"
  }
 },
 "nbformat": 4,
 "nbformat_minor": 2
}
