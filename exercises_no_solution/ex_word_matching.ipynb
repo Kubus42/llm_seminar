{
 "cells": [
  {
   "cell_type": "raw",
   "metadata": {},
   "source": [
    "---\n",
    "title: \"Exercise: Word matching\"\n",
    "format:\n",
    "  html:\n",
    "    code-fold: false\n",
    "    code-overflow: wrap\n",
    "jupyter: python3\n",
    "---"
   ]
  },
  {
   "cell_type": "markdown",
   "metadata": {},
   "source": [
    "**Task:** For each element of the following list of keywords, determine whether it is contained in the text.\n",
    "\n",
    "**Instructions:**\n",
    "\n",
    "- Transform the text to lower case and use a tokenizer to split the text into word tokens.\n",
    "- First, use a simple comparison of strings to check whether the keywords match any token. When does this approach fail? \n",
    "- Lemmatize the tokens from your text in order to handle some more matching cases. When does this approach still fail? Hint: Use the different options for `pos` in order to handle different types of words such as nouns, verbs etc."
   ]
  },
  {
   "cell_type": "code",
   "execution_count": 66,
   "metadata": {},
   "outputs": [],
   "source": [
    "text = \"The company's latest quarterly earnings reports exceeded analysts' expectations, driving up the stock price. However, concerns about future growth prospects weighed on investor sentiment. The CEO announced plans to diversify the company's product portfolio and expand into new markets, aiming to sustain long-term profitability. The marketing team launched a new advertising campaign to promote the company's flagship product, targeting key demographics. Despite challenges in the competitive landscape, the company remains committed to innovation and customer satisfaction.\""
   ]
  },
  {
   "cell_type": "code",
   "execution_count": 67,
   "metadata": {},
   "outputs": [],
   "source": [
    "keywords = [\n",
    "    \"Announce\", \n",
    "    \"Aim\",\n",
    "    \"Earnings\",\n",
    "    \"Quarter\",\n",
    "    \"Report\",\n",
    "    \"Investor\",\n",
    "    \"Analysis\",\n",
    "    \"Market\",\n",
    "    \"Diversity\",\n",
    "    \"Product portfolio\",\n",
    "    \"Advertisment\",\n",
    "    \"Stock\",\n",
    "    \"Landscpe\" # yes, this is here on purpose\n",
    "]"
   ]
  },
  {
   "cell_type": "markdown",
   "metadata": {},
   "source": [
    "</details>"
   ]
  }
 ],
 "metadata": {
  "kernelspec": {
   "display_name": "script_venv",
   "language": "python",
   "name": "python3"
  },
  "language_info": {
   "codemirror_mode": {
    "name": "ipython",
    "version": 3
   },
   "file_extension": ".py",
   "mimetype": "text/x-python",
   "name": "python",
   "nbconvert_exporter": "python",
   "pygments_lexer": "ipython3",
   "version": "3.8.18"
  }
 },
 "nbformat": 4,
 "nbformat_minor": 2
}
