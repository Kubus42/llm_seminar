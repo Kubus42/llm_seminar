{
 "cells": [
  {
   "cell_type": "raw",
   "metadata": {},
   "source": [
    "---\n",
    "title: \"Exercise: GPT Chatbot\"\n",
    "format:\n",
    "  html:\n",
    "    code-fold: false\n",
    "jupyter: python3\n",
    "---"
   ]
  },
  {
   "cell_type": "markdown",
   "metadata": {},
   "source": [
    "\n",
    "**Task:** Create a simple chatbot using the OpenAI `chat.completions` API.\n",
    "\n",
    "**Instructions:**\n",
    "\n",
    "- Use the `chat.completions` API to send prompts to GPT, receive the answers and displaying them.\n",
    "- Stop the conversation when the user inputs the word `exit` instead of a new prompt.\n",
    "- Hint: Remember that GPT has no memory, so you always have to include the previous conversation in your prompts."
   ]
  },
  {
   "cell_type": "markdown",
   "metadata": {},
   "source": [
    "</details>"
   ]
  }
 ],
 "metadata": {
  "kernelspec": {
   "display_name": "script_venv",
   "language": "python",
   "name": "python3"
  },
  "language_info": {
   "codemirror_mode": {
    "name": "ipython",
    "version": 3
   },
   "file_extension": ".py",
   "mimetype": "text/x-python",
   "name": "python",
   "nbconvert_exporter": "python",
   "pygments_lexer": "ipython3",
   "version": "3.8.18"
  }
 },
 "nbformat": 4,
 "nbformat_minor": 2
}
