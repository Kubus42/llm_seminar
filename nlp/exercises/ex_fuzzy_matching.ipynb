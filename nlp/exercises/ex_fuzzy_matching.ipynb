{
 "cells": [
  {
   "cell_type": "raw",
   "metadata": {},
   "source": [
    "---\n",
    "title: \"Exercise: Fuzzy matching\"\n",
    "format:\n",
    "  html:\n",
    "    code-fold: false\n",
    "    code-overflow: wrap\n",
    "jupyter: python3\n",
    "---"
   ]
  },
  {
   "cell_type": "raw",
   "metadata": {},
   "source": [
    "**Task:** Use fuzzy matching and the `rapidfuzz` library to find the keywords in the text.\n",
    "\n",
    "**Instructions:**\n",
    "\n",
    "- Some keywords with multiple words, partial ratio etc.\n",
    "\n",
    "TODO: Finalize this!"
   ]
  }
 ],
 "metadata": {
  "language_info": {
   "name": "python"
  }
 },
 "nbformat": 4,
 "nbformat_minor": 2
}
