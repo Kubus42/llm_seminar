{
 "cells": [
  {
   "cell_type": "raw",
   "metadata": {},
   "source": [
    "---\n",
    "title: \"Exercise: Fuzzy matching\"\n",
    "format:\n",
    "  html:\n",
    "    code-fold: false\n",
    "    code-overflow: wrap\n",
    "jupyter: python3\n",
    "---"
   ]
  },
  {
   "cell_type": "markdown",
   "metadata": {},
   "source": [
    "**Task:** Write a function that helps finding the most similar words or tokens from a given list based on a user query using `rapidfuzz`.\n",
    "\n",
    "**Instructions:**\n",
    "\n",
    "- Write a Python function called `find_similar_words(query, word_list)` that takes a user query and a list of words or tokens as input.\n",
    "- Inside the function, use rapidfuzz to calculate the similarity between the query and each word/token in the list.\n",
    "- Return a list of tuples containing the word/token and its corresponding similarity score, sorted in descending order of similarity.\n"
   ]
  },
  {
   "cell_type": "code",
   "execution_count": 3,
   "metadata": {},
   "outputs": [],
   "source": [
    "word_list = [\"apple\", \"banana\", \"orange\", \"grape\", \"pineapple\", \"kiwi\"]\n",
    "query = \"appl\""
   ]
  },
  {
   "cell_type": "markdown",
   "metadata": {},
   "source": [
    "<details>\n",
    "<summary>Show solution</summary>"
   ]
  },
  {
   "cell_type": "code",
   "execution_count": 4,
   "metadata": {},
   "outputs": [
    {
     "name": "stdout",
     "output_type": "stream",
     "text": [
      "Similar words to 'appl' are:\n",
      "apple (Similarity: 88.89)\n",
      "pineapple (Similarity: 61.54)\n",
      "grape (Similarity: 44.44)\n",
      "banana (Similarity: 20.0)\n",
      "orange (Similarity: 20.0)\n",
      "kiwi (Similarity: 0.0)\n"
     ]
    }
   ],
   "source": [
    "# Importing necessary packages\n",
    "from rapidfuzz import fuzz\n",
    "\n",
    "def find_similar_words(query, word_list):\n",
    "    # Create an empty list to store word and similarity score tuples\n",
    "    similar_words = []\n",
    "    \n",
    "    # Loop through each word in the word_list\n",
    "    for word in word_list:\n",
    "        # Calculate the similarity score between the query and the current word\n",
    "        similarity = fuzz.ratio(query, word)\n",
    "        \n",
    "        # Append the word and its similarity score to the list\n",
    "        similar_words.append((word, similarity))\n",
    "    \n",
    "    # Sort the list of tuples based on similarity score in descending order\n",
    "    similar_words.sort(key=lambda x: x[1], reverse=True)\n",
    "    \n",
    "    # Return the sorted list of similar words\n",
    "    return similar_words\n",
    "\n",
    "similar_words = find_similar_words(query, word_list)\n",
    "print(\"Similar words to '{}' are:\".format(query))\n",
    "for word, similarity in similar_words:\n",
    "    print(\"{} (Similarity: {})\".format(word, round(similarity, 2)))\n"
   ]
  },
  {
   "cell_type": "markdown",
   "metadata": {},
   "source": [
    "</details>"
   ]
  }
 ],
 "metadata": {
  "kernelspec": {
   "display_name": "script_venv",
   "language": "python",
   "name": "python3"
  },
  "language_info": {
   "codemirror_mode": {
    "name": "ipython",
    "version": 3
   },
   "file_extension": ".py",
   "mimetype": "text/x-python",
   "name": "python",
   "nbconvert_exporter": "python",
   "pygments_lexer": "ipython3",
   "version": "3.8.18"
  }
 },
 "nbformat": 4,
 "nbformat_minor": 2
}
